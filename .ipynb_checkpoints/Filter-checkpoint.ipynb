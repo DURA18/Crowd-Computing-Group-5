{
 "cells": [
  {
   "cell_type": "code",
   "execution_count": 61,
   "metadata": {},
   "outputs": [],
   "source": [
    "import spacy\n",
    "import re\n",
    "from spacy import displacy\n",
    "from collections import Counter\n",
    "import en_core_web_sm\n",
    "import rstr\n",
    "import string"
   ]
  },
  {
   "cell_type": "code",
   "execution_count": 43,
   "metadata": {},
   "outputs": [],
   "source": [
    "nlp = en_core_web_sm.load()"
   ]
  },
  {
   "cell_type": "code",
   "execution_count": 40,
   "metadata": {},
   "outputs": [
    {
     "data": {
      "text/plain": [
       "'846-78-3964'"
      ]
     },
     "execution_count": 40,
     "metadata": {},
     "output_type": "execute_result"
    }
   ],
   "source": [
    "rstr.xeger(r'\\d{3}-\\d{2}-\\d{4}')"
   ]
  },
  {
   "cell_type": "code",
   "execution_count": 59,
   "metadata": {},
   "outputs": [],
   "source": [
    "gender_filter_dict = {\n",
    "    'male ': '',\n",
    "    'female ': '',\n",
    "    'he': 'it',\n",
    "    'she': 'it',\n",
    "    'his': 'its',\n",
    "    'hers': 'its'\n",
    "}\n",
    "\n",
    "regexes = [\n",
    "('email_regex', r'([a-zA-Z0-9_.+-]+@[a-zA-Z0-9-]+\\.[a-zA-Z0-9-.]+)')\n",
    ", ('ssn_regex', r'\\d{3}-\\d{2}-\\d{4}')\n",
    ", ('ipv4_regex', r'\\d{1,3}[.]\\d{1,3}[.]\\d{1,3}[.]\\d{1,3}')\n",
    ", ('mastercard_regex', r'(?:5[1-5][0-9]{2}|222[1-9]|22[3-9][0-9]|2[3-6][0-9]{2}|27[01][0-9]|2720)[0-9]{12}')\n",
    ", ('visacard_regex', r'\\b([4]\\d{3}[\\s]\\d{4}[\\s]\\d{4}[\\s]\\d{4}|[4]\\d{3}[-]\\d{4}[-]\\d{4}[-]\\d{4}|[4]\\d{3}[.]\\d{4}[.]\\d{4}[.]\\d{4}|[4]\\d{3}\\d{4}\\d{4}\\d{4})\\b')\n",
    ", ('american-express_regex', r'3[47][0-9]{13}(?:\\s|$|[^a-z0-9])')\n",
    ", ('zip-code_regex', r'((\\d{5}-\\d{4})|(\\d{5})|([A-Z]\\d[A-Z]\\s\\d[A-Z]\\d))')\n",
    "]\n",
    "def filter_text(text, filter_gender=True, filter_dates=True):\n",
    "    doc = nlp(text)\n",
    "    print([(X.text, X.label_) for X in doc.ents])\n",
    "    \n",
    "    for (name, regex) in regexes:\n",
    "        text = re.sub('(?:^|\\s|[^a-z0-9])' + regex + '(?:\\s|$|[^a-z0-9])', \" \" + rstr.xeger(regex) + \" \", text)\n",
    "    \n",
    "    if filter_gender:\n",
    "        for key in gender_filter_dict:\n",
    "            text = text.replace(key, gender_filter_dict[key])\n",
    "            text = text.replace(key.capitalize(), gender_filter_dict[key].capitalize())\n",
    "        \n",
    "        \n",
    "    for X in doc.ents:\n",
    "        if X.label_ is 'PERSON':\n",
    "            text = text.replace(X.text, 'PERSON')\n",
    "        \n",
    "        if X.label_ is 'GPE':\n",
    "            text = text.replace(X.text, 'LOCATION')\n",
    "            \n",
    "        if X.label_ is 'CARDINAL':\n",
    "            text = text.replace(X.text, rstr.rstr(string.digits, len(X.text)))\n",
    "            \n",
    "        if filter_dates:\n",
    "            if X.label_ is 'DATE':\n",
    "                text = text.replace(X.text, 'DATE')\n",
    "    \n",
    "    return text\n",
    "            "
   ]
  },
  {
   "cell_type": "code",
   "execution_count": 72,
   "metadata": {},
   "outputs": [
    {
     "name": "stdout",
     "output_type": "stream",
     "text": [
      "[('Jeffrey', 'PERSON'), ('23 years old', 'DATE'), ('11', 'CARDINAL'), ('222', 'CARDINAL'), ('Texas', 'GPE'), ('12345', 'DATE')]\n"
     ]
    },
    {
     "data": {
      "text/plain": [
       "'PERSON is a DATE police officer, 60, its zip code is 159-39-6862  it is very good at communicating. It lives in LOCATION and its credit card number is 61335-6045 '"
      ]
     },
     "execution_count": 72,
     "metadata": {},
     "output_type": "execute_result"
    }
   ],
   "source": [
    "result = filter_text('Jeffrey is a 23 years old police officer, 11, his zip code is 222-22-2222, he is very good at communicating. He lives in Texas and his credit card number is 12345,')\n",
    "result"
   ]
  },
  {
   "cell_type": "code",
   "execution_count": 6,
   "metadata": {},
   "outputs": [
    {
     "name": "stdout",
     "output_type": "stream",
     "text": [
      "[]\n"
     ]
    },
    {
     "data": {
      "text/plain": [
       "'email is email_regex'"
      ]
     },
     "execution_count": 6,
     "metadata": {},
     "output_type": "execute_result"
    }
   ],
   "source": [
    "result = filter_text('email is ,Deez@nuts.com')\n",
    "result"
   ]
  }
 ],
 "metadata": {
  "kernelspec": {
   "display_name": "Python 3",
   "language": "python",
   "name": "python3"
  },
  "language_info": {
   "codemirror_mode": {
    "name": "ipython",
    "version": 3
   },
   "file_extension": ".py",
   "mimetype": "text/x-python",
   "name": "python",
   "nbconvert_exporter": "python",
   "pygments_lexer": "ipython3",
   "version": "3.7.5"
  }
 },
 "nbformat": 4,
 "nbformat_minor": 2
}
