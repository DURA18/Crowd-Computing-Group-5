{
 "cells": [
  {
   "cell_type": "code",
   "execution_count": 1,
   "metadata": {},
   "outputs": [],
   "source": [
    "import json\n",
    "import pandas as pd"
   ]
  },
  {
   "cell_type": "markdown",
   "metadata": {},
   "source": [
    "## Instructions\n",
    "- Download the switchboard data from this webpage: https://www.openslr.org/5/\n",
    "- Specifically, this link: http://www.openslr.org/resources/5/switchboard_word_alignments.tar.gz (50 Mb)"
   ]
  },
  {
   "cell_type": "code",
   "execution_count": 3,
   "metadata": {},
   "outputs": [],
   "source": [
    "df = pd.read_csv(\"/Users/nikilsaldanaha/Downloads/swb_ms98_transcriptions/32/3214/sw3214B-ms98-a-word.text\", delimiter=\" \", header=None, names=[\"id\", \"start\", \"stop\", \"word\"])"
   ]
  },
  {
   "cell_type": "code",
   "execution_count": 4,
   "metadata": {},
   "outputs": [
    {
     "data": {
      "text/plain": [
       "array(['[silence]', '[noise]', '[laughter]', 'w[e]-', 'y[ou]-', 'kn[ow]-',\n",
       "       'al[most]-', '[laughter-exactly]', '[vocalized-noise]'],\n",
       "      dtype=object)"
      ]
     },
     "execution_count": 4,
     "metadata": {},
     "output_type": "execute_result"
    }
   ],
   "source": [
    "df[df[\"word\"].str.contains(\"\\[\")][\"word\"].unique()"
   ]
  },
  {
   "cell_type": "code",
   "execution_count": 5,
   "metadata": {},
   "outputs": [],
   "source": [
    "# remove words that are just noise\n",
    "df = df[~(df[\"word\"] == \"[noise]\")]\n",
    "df = df[~(df[\"word\"] == \"[vocalized-noise]\")]"
   ]
  },
  {
   "cell_type": "code",
   "execution_count": 6,
   "metadata": {},
   "outputs": [],
   "source": [
    "# replace silence with full stop\n",
    "df.replace({\"[silence]\": \".\"}, inplace=True)"
   ]
  },
  {
   "cell_type": "code",
   "execution_count": 7,
   "metadata": {},
   "outputs": [],
   "source": [
    "df.loc[:, \"word\"] = df.word.str.replace(r\"\\[laughter-\", \"\")\n",
    "df.loc[:, \"word\"] = df.word.str.replace(r\"\\[laughter\\]\", \"\")\n",
    "df.loc[:, \"word\"] = df.word.str.replace(\"[\", \"\")\n",
    "df.loc[:, \"word\"] = df.word.str.replace(\"]-\", \"\")\n",
    "df.loc[:, \"word\"] = df.word.str.replace(\"]\", \"\")"
   ]
  },
  {
   "cell_type": "code",
   "execution_count": 8,
   "metadata": {},
   "outputs": [],
   "source": [
    "transcript = \" \".join(df.word.to_list())"
   ]
  },
  {
   "cell_type": "code",
   "execution_count": 9,
   "metadata": {},
   "outputs": [],
   "source": [
    "transcript = transcript.replace(\" .\", \".\")"
   ]
  },
  {
   "cell_type": "code",
   "execution_count": 10,
   "metadata": {},
   "outputs": [],
   "source": [
    "import re"
   ]
  },
  {
   "cell_type": "code",
   "execution_count": 11,
   "metadata": {},
   "outputs": [],
   "source": [
    "transcript = re.sub(\"\\.+\", \".\", transcript)"
   ]
  },
  {
   "cell_type": "markdown",
   "metadata": {},
   "source": [
    "## This transcript can be replaced by any text that are a bunch of sentences"
   ]
  },
  {
   "cell_type": "code",
   "execution_count": 12,
   "metadata": {},
   "outputs": [
    {
     "data": {
      "text/plain": [
       "\". okay my name is Terry. okay. . oh yes uh there's Country Living there's Country and uh. oh yeah . sure. oh that's great. well i actually take Country Living it's a country magazine and House Beautiful because i like um. that kind of stuff decorating and uh. getting ideas for a garden in fact uh right before you called i was planning my tulips. and. uh putting them on blue print on where i'm gonna put them_1 so. i'm really into that but uh. so i really get into magazines that are kind of basically into um. housing type things whether it be. decorating and gardening and recipes that kind of stuff so i'm. pretty much in the same category as what. you're. looking at. um-hum. sure. yeah. yeah. yeah we i've had Time before i think with that what happens is uh. it's interesting to read. but you kind of just put the magazine away and you never read it again unless there's some big article in there that you're gonna keep for your kids. but. um-hum. it exactly you you sound exactly like what we did we just saved everything we could for our daughter but uh. that's pretty similar but i find that with these Country magazines i keep going back to them getting ideas looking back and saying jeez there was a flower garden in there that i. seen. that i would like to have some ideas you know. so you get a lot of ideas from them. yes we do we're out in the country we're right across from a river and uh you're right. the leaves are beautiful and. they are. falling now. so uh. it just peaked uh. last week and it was. just gorgeous out here but. yeah it's beautiful. the other thing about magazines the only thing i don't like is they really get heavily into advertising. and. you know it's. it's. it's fine i'd rather almost have i know that part. probably half their money comes from these people that are saying. uh put my ad in your paper and i'll pay you or whatever but. uh there's been some magazines i've looked at and it's a real turn off to see every other page. uh some kind of ad. yeah Vogue is heavily into that you know yeah. exactly. it's almost i. mean you could go into a store and get bombarded the same way. but. uh. uh-huh. yeah exactly. exactly. yeah they're. really getting into that so. but pretty much like it said the magazines i've had Better Homes and Garden and now i need a switch and i'm going back to Gourmet Cooking because um i've had the. magazine. before back in nineteen uh eighty six and i thought well i'll give it a try again because you get tired of one magazine and you need. to try and. change. uh yes i do and sometimes most of the time i tear them_1 out. a lot of times if uh you know if i got a chance to sit down at my typewriter i'll go ahead and type out recipes but. what i usually do is i'll try it out in the magazine first and uh without tearing it out and then give it a. yeah and then if we like it it becomes part of the recipe collection but uh. yes. um-hum. sure. sure. uh-huh. yeah it it. that's what i- i just went through uh we just recently moved from. Minnesota to Wisconsin. i went through all this i had this huge stack of. House Beautiful i had Colonial Times i had Gourmet. yeah. it was hard but i ended up uh. reducing them down to like fifteen magazines out of uh hundreds and i just said. okay there's one picture in there that. it really doesn't. you know it's got to have more than that it's got to have some good ideas it's got to have everything so i just kind of went through. and i find that most of the magazines i really like is around Christmas time because it helps me.\""
      ]
     },
     "execution_count": 12,
     "metadata": {},
     "output_type": "execute_result"
    }
   ],
   "source": [
    "transcript"
   ]
  },
  {
   "cell_type": "code",
   "execution_count": 13,
   "metadata": {},
   "outputs": [],
   "source": [
    "splits = [[]]\n",
    "size = 0\n",
    "i = 0\n",
    "# ideal: >=11 and <=25\n",
    "for sentence in transcript.split('. '):\n",
    "    current_size = len(sentence.split())+size\n",
    "    if current_size < 11:\n",
    "        size = current_size\n",
    "        splits[i].append(sentence)\n",
    "    elif current_size >= 11 and current_size <= 25:\n",
    "        size = 0\n",
    "        splits[i].append(sentence)\n",
    "        i += 1\n",
    "        splits.append([])\n",
    "    else:\n",
    "        split = \" \".join(sentence.split()[:25-size])\n",
    "        splits[i].append(split)\n",
    "        idx = 25-size\n",
    "        done = False\n",
    "        while(not done):\n",
    "            splits.append([])\n",
    "            i += 1\n",
    "            split = \" \".join(sentence.split()[idx:idx+25])\n",
    "            splits[i].append(split)\n",
    "            size = len(split.split())\n",
    "            idx += 25\n",
    "            if idx >= len(sentence):\n",
    "                done = True"
   ]
  },
  {
   "cell_type": "code",
   "execution_count": 14,
   "metadata": {},
   "outputs": [],
   "source": [
    "for i, split in enumerate(splits):\n",
    "    filtered_split = list(filter(lambda x: x != \"\", split))\n",
    "    splits[i] = filtered_split\n",
    "splits = list(filter(lambda x: len(x) != 0, splits))\n",
    "splits = [\". \".join(split) for split in splits]"
   ]
  },
  {
   "cell_type": "markdown",
   "metadata": {},
   "source": [
    "## Each element of splits is a sentence of between 11 and 25 words"
   ]
  },
  {
   "cell_type": "code",
   "execution_count": 15,
   "metadata": {
    "scrolled": true
   },
   "outputs": [
    {
     "data": {
      "text/plain": [
       "[\"okay my name is Terry. okay. oh yes uh there's Country Living there's Country and uh\",\n",
       " \"oh yeah . sure. oh that's great. well i actually take Country Living it's a country magazine and House Beautiful because i like um\",\n",
       " 'that kind of stuff decorating and uh. getting ideas for a garden in fact uh right before you called i was planning my tulips',\n",
       " \"and. uh putting them on blue print on where i'm gonna put them_1 so\",\n",
       " \"i'm really into that but uh. so i really get into magazines that are kind of basically into um\",\n",
       " \"housing type things whether it be. decorating and gardening and recipes that kind of stuff so i'm\",\n",
       " \"pretty much in the same category as what. you're. looking at\",\n",
       " \"um-hum. sure. yeah. yeah. yeah we i've had Time before i think with that what happens is uh\",\n",
       " \"it's interesting to read. but you kind of just put the magazine away and you never read it again unless there's some big article in\",\n",
       " \"there that you're gonna keep for your kids\",\n",
       " 'but. um-hum. it exactly you you sound exactly like what we did we just saved everything we could for our daughter but uh',\n",
       " \"that's pretty similar but i find that with these Country magazines i keep going back to them getting ideas looking back and saying jeez there\",\n",
       " 'was a flower garden in there that i',\n",
       " 'seen. that i would like to have some ideas you know',\n",
       " \"so you get a lot of ideas from them. yes we do we're out in the country we're right across from a river and uh\",\n",
       " \"you're right\",\n",
       " 'the leaves are beautiful and. they are. falling now. so uh',\n",
       " 'it just peaked uh. last week and it was. just gorgeous out here but',\n",
       " \"yeah it's beautiful. the other thing about magazines the only thing i don't like is they really get heavily into advertising\",\n",
       " \"and. you know it's. it's. it's fine i'd rather almost have i know that part\",\n",
       " 'probably half their money comes from these people that are saying',\n",
       " \"uh put my ad in your paper and i'll pay you or whatever but\",\n",
       " \"uh there's been some magazines i've looked at and it's a real turn off to see every other page\",\n",
       " 'uh some kind of ad. yeah Vogue is heavily into that you know yeah',\n",
       " \"exactly. it's almost i. mean you could go into a store and get bombarded the same way\",\n",
       " \"but. uh. uh-huh. yeah exactly. exactly. yeah they're. really getting into that so\",\n",
       " \"but pretty much like it said the magazines i've had Better Homes and Garden and now i need a switch and i'm going back to\",\n",
       " \"Gourmet Cooking because um i've had the\",\n",
       " \"magazine. before back in nineteen uh eighty six and i thought well i'll give it a try again because you get tired of one magazine\",\n",
       " 'and you need',\n",
       " 'to try and. change. uh yes i do and sometimes most of the time i tear them_1 out',\n",
       " \"a lot of times if uh you know if i got a chance to sit down at my typewriter i'll go ahead and type out\",\n",
       " 'recipes but',\n",
       " \"what i usually do is i'll try it out in the magazine first and uh without tearing it out and then give it a\",\n",
       " 'yeah and then if we like it it becomes part of the recipe collection but uh',\n",
       " \"yes. um-hum. sure. sure. uh-huh. yeah it it. that's what i- i just went through uh we just recently moved from\",\n",
       " 'Minnesota to Wisconsin. i went through all this i had this huge stack of',\n",
       " 'House Beautiful i had Colonial Times i had Gourmet. yeah. it was hard but i ended up uh',\n",
       " 'reducing them down to like fifteen magazines out of uh hundreds and i just said',\n",
       " \"okay there's one picture in there that. it really doesn't. you know it's got to have more than that it's got to have some good\",\n",
       " \"ideas it's got to have everything so i just kind of went through\",\n",
       " 'and i find that most of the magazines i really like is around Christmas time because it helps me.']"
      ]
     },
     "execution_count": 15,
     "metadata": {},
     "output_type": "execute_result"
    }
   ],
   "source": [
    "splits"
   ]
  },
  {
   "cell_type": "code",
   "execution_count": 17,
   "metadata": {},
   "outputs": [
    {
     "data": {
      "text/html": [
       "<div>\n",
       "<style scoped>\n",
       "    .dataframe tbody tr th:only-of-type {\n",
       "        vertical-align: middle;\n",
       "    }\n",
       "\n",
       "    .dataframe tbody tr th {\n",
       "        vertical-align: top;\n",
       "    }\n",
       "\n",
       "    .dataframe thead th {\n",
       "        text-align: right;\n",
       "    }\n",
       "</style>\n",
       "<table border=\"1\" class=\"dataframe\">\n",
       "  <thead>\n",
       "    <tr style=\"text-align: right;\">\n",
       "      <th></th>\n",
       "      <th>text</th>\n",
       "    </tr>\n",
       "  </thead>\n",
       "  <tbody>\n",
       "    <tr>\n",
       "      <th>0</th>\n",
       "      <td>okay my name is Terry. okay. oh yes uh there's...</td>\n",
       "    </tr>\n",
       "    <tr>\n",
       "      <th>1</th>\n",
       "      <td>oh yeah . sure. oh that's great. well i actual...</td>\n",
       "    </tr>\n",
       "    <tr>\n",
       "      <th>2</th>\n",
       "      <td>that kind of stuff decorating and uh. getting ...</td>\n",
       "    </tr>\n",
       "    <tr>\n",
       "      <th>3</th>\n",
       "      <td>and. uh putting them on blue print on where i'...</td>\n",
       "    </tr>\n",
       "    <tr>\n",
       "      <th>4</th>\n",
       "      <td>i'm really into that but uh. so i really get i...</td>\n",
       "    </tr>\n",
       "    <tr>\n",
       "      <th>5</th>\n",
       "      <td>housing type things whether it be. decorating ...</td>\n",
       "    </tr>\n",
       "    <tr>\n",
       "      <th>6</th>\n",
       "      <td>pretty much in the same category as what. you'...</td>\n",
       "    </tr>\n",
       "    <tr>\n",
       "      <th>7</th>\n",
       "      <td>um-hum. sure. yeah. yeah. yeah we i've had Tim...</td>\n",
       "    </tr>\n",
       "    <tr>\n",
       "      <th>8</th>\n",
       "      <td>it's interesting to read. but you kind of just...</td>\n",
       "    </tr>\n",
       "    <tr>\n",
       "      <th>9</th>\n",
       "      <td>there that you're gonna keep for your kids</td>\n",
       "    </tr>\n",
       "    <tr>\n",
       "      <th>10</th>\n",
       "      <td>but. um-hum. it exactly you you sound exactly ...</td>\n",
       "    </tr>\n",
       "    <tr>\n",
       "      <th>11</th>\n",
       "      <td>that's pretty similar but i find that with the...</td>\n",
       "    </tr>\n",
       "    <tr>\n",
       "      <th>12</th>\n",
       "      <td>was a flower garden in there that i</td>\n",
       "    </tr>\n",
       "    <tr>\n",
       "      <th>13</th>\n",
       "      <td>seen. that i would like to have some ideas you...</td>\n",
       "    </tr>\n",
       "    <tr>\n",
       "      <th>14</th>\n",
       "      <td>so you get a lot of ideas from them. yes we do...</td>\n",
       "    </tr>\n",
       "    <tr>\n",
       "      <th>15</th>\n",
       "      <td>you're right</td>\n",
       "    </tr>\n",
       "    <tr>\n",
       "      <th>16</th>\n",
       "      <td>the leaves are beautiful and. they are. fallin...</td>\n",
       "    </tr>\n",
       "    <tr>\n",
       "      <th>17</th>\n",
       "      <td>it just peaked uh. last week and it was. just ...</td>\n",
       "    </tr>\n",
       "    <tr>\n",
       "      <th>18</th>\n",
       "      <td>yeah it's beautiful. the other thing about mag...</td>\n",
       "    </tr>\n",
       "    <tr>\n",
       "      <th>19</th>\n",
       "      <td>and. you know it's. it's. it's fine i'd rather...</td>\n",
       "    </tr>\n",
       "    <tr>\n",
       "      <th>20</th>\n",
       "      <td>probably half their money comes from these peo...</td>\n",
       "    </tr>\n",
       "    <tr>\n",
       "      <th>21</th>\n",
       "      <td>uh put my ad in your paper and i'll pay you or...</td>\n",
       "    </tr>\n",
       "    <tr>\n",
       "      <th>22</th>\n",
       "      <td>uh there's been some magazines i've looked at ...</td>\n",
       "    </tr>\n",
       "    <tr>\n",
       "      <th>23</th>\n",
       "      <td>uh some kind of ad. yeah Vogue is heavily into...</td>\n",
       "    </tr>\n",
       "    <tr>\n",
       "      <th>24</th>\n",
       "      <td>exactly. it's almost i. mean you could go into...</td>\n",
       "    </tr>\n",
       "    <tr>\n",
       "      <th>25</th>\n",
       "      <td>but. uh. uh-huh. yeah exactly. exactly. yeah t...</td>\n",
       "    </tr>\n",
       "    <tr>\n",
       "      <th>26</th>\n",
       "      <td>but pretty much like it said the magazines i'v...</td>\n",
       "    </tr>\n",
       "    <tr>\n",
       "      <th>27</th>\n",
       "      <td>Gourmet Cooking because um i've had the</td>\n",
       "    </tr>\n",
       "    <tr>\n",
       "      <th>28</th>\n",
       "      <td>magazine. before back in nineteen uh eighty si...</td>\n",
       "    </tr>\n",
       "    <tr>\n",
       "      <th>29</th>\n",
       "      <td>and you need</td>\n",
       "    </tr>\n",
       "    <tr>\n",
       "      <th>30</th>\n",
       "      <td>to try and. change. uh yes i do and sometimes ...</td>\n",
       "    </tr>\n",
       "    <tr>\n",
       "      <th>31</th>\n",
       "      <td>a lot of times if uh you know if i got a chanc...</td>\n",
       "    </tr>\n",
       "    <tr>\n",
       "      <th>32</th>\n",
       "      <td>recipes but</td>\n",
       "    </tr>\n",
       "    <tr>\n",
       "      <th>33</th>\n",
       "      <td>what i usually do is i'll try it out in the ma...</td>\n",
       "    </tr>\n",
       "    <tr>\n",
       "      <th>34</th>\n",
       "      <td>yeah and then if we like it it becomes part of...</td>\n",
       "    </tr>\n",
       "    <tr>\n",
       "      <th>35</th>\n",
       "      <td>yes. um-hum. sure. sure. uh-huh. yeah it it. t...</td>\n",
       "    </tr>\n",
       "    <tr>\n",
       "      <th>36</th>\n",
       "      <td>Minnesota to Wisconsin. i went through all thi...</td>\n",
       "    </tr>\n",
       "    <tr>\n",
       "      <th>37</th>\n",
       "      <td>House Beautiful i had Colonial Times i had Gou...</td>\n",
       "    </tr>\n",
       "    <tr>\n",
       "      <th>38</th>\n",
       "      <td>reducing them down to like fifteen magazines o...</td>\n",
       "    </tr>\n",
       "    <tr>\n",
       "      <th>39</th>\n",
       "      <td>okay there's one picture in there that. it rea...</td>\n",
       "    </tr>\n",
       "    <tr>\n",
       "      <th>40</th>\n",
       "      <td>ideas it's got to have everything so i just ki...</td>\n",
       "    </tr>\n",
       "    <tr>\n",
       "      <th>41</th>\n",
       "      <td>and i find that most of the magazines i really...</td>\n",
       "    </tr>\n",
       "  </tbody>\n",
       "</table>\n",
       "</div>"
      ],
      "text/plain": [
       "                                                 text\n",
       "0   okay my name is Terry. okay. oh yes uh there's...\n",
       "1   oh yeah . sure. oh that's great. well i actual...\n",
       "2   that kind of stuff decorating and uh. getting ...\n",
       "3   and. uh putting them on blue print on where i'...\n",
       "4   i'm really into that but uh. so i really get i...\n",
       "5   housing type things whether it be. decorating ...\n",
       "6   pretty much in the same category as what. you'...\n",
       "7   um-hum. sure. yeah. yeah. yeah we i've had Tim...\n",
       "8   it's interesting to read. but you kind of just...\n",
       "9          there that you're gonna keep for your kids\n",
       "10  but. um-hum. it exactly you you sound exactly ...\n",
       "11  that's pretty similar but i find that with the...\n",
       "12                was a flower garden in there that i\n",
       "13  seen. that i would like to have some ideas you...\n",
       "14  so you get a lot of ideas from them. yes we do...\n",
       "15                                       you're right\n",
       "16  the leaves are beautiful and. they are. fallin...\n",
       "17  it just peaked uh. last week and it was. just ...\n",
       "18  yeah it's beautiful. the other thing about mag...\n",
       "19  and. you know it's. it's. it's fine i'd rather...\n",
       "20  probably half their money comes from these peo...\n",
       "21  uh put my ad in your paper and i'll pay you or...\n",
       "22  uh there's been some magazines i've looked at ...\n",
       "23  uh some kind of ad. yeah Vogue is heavily into...\n",
       "24  exactly. it's almost i. mean you could go into...\n",
       "25  but. uh. uh-huh. yeah exactly. exactly. yeah t...\n",
       "26  but pretty much like it said the magazines i'v...\n",
       "27            Gourmet Cooking because um i've had the\n",
       "28  magazine. before back in nineteen uh eighty si...\n",
       "29                                       and you need\n",
       "30  to try and. change. uh yes i do and sometimes ...\n",
       "31  a lot of times if uh you know if i got a chanc...\n",
       "32                                        recipes but\n",
       "33  what i usually do is i'll try it out in the ma...\n",
       "34  yeah and then if we like it it becomes part of...\n",
       "35  yes. um-hum. sure. sure. uh-huh. yeah it it. t...\n",
       "36  Minnesota to Wisconsin. i went through all thi...\n",
       "37  House Beautiful i had Colonial Times i had Gou...\n",
       "38  reducing them down to like fifteen magazines o...\n",
       "39  okay there's one picture in there that. it rea...\n",
       "40  ideas it's got to have everything so i just ki...\n",
       "41  and i find that most of the magazines i really..."
      ]
     },
     "execution_count": 17,
     "metadata": {},
     "output_type": "execute_result"
    }
   ],
   "source": [
    "pd.DataFrame(splits, columns=[\"text\"])"
   ]
  },
  {
   "cell_type": "code",
   "execution_count": null,
   "metadata": {},
   "outputs": [],
   "source": []
  }
 ],
 "metadata": {
  "kernelspec": {
   "display_name": "Python 3.8.2 64-bit ('env': venv)",
   "language": "python",
   "name": "python38264bitenvvenv7b9860dd079f4740a146ad2038fa480b"
  },
  "language_info": {
   "codemirror_mode": {
    "name": "ipython",
    "version": 3
   },
   "file_extension": ".py",
   "mimetype": "text/x-python",
   "name": "python",
   "nbconvert_exporter": "python",
   "pygments_lexer": "ipython3",
   "version": "3.8.2"
  }
 },
 "nbformat": 4,
 "nbformat_minor": 4
}
