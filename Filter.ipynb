{
 "cells": [
  {
   "cell_type": "code",
   "execution_count": 254,
   "metadata": {},
   "outputs": [],
   "source": [
    "import spacy\n",
    "import re\n",
    "from spacy import displacy\n",
    "from collections import Counter\n",
    "import en_core_web_sm"
   ]
  },
  {
   "cell_type": "code",
   "execution_count": 255,
   "metadata": {},
   "outputs": [],
   "source": [
    "nlp = en_core_web_sm.load()"
   ]
  },
  {
   "cell_type": "code",
   "execution_count": 294,
   "metadata": {},
   "outputs": [],
   "source": [
    "#functions for number replacement\n",
    "def magic(numList):\n",
    "    s = ''.join(map(str, numList))\n",
    "    return int(s)\n",
    "def number_re(length):\n",
    "    number=[]\n",
    "    for i in range(length):\n",
    "        number.append(random.randint(0,9))\n",
    "    return magic(number)"
   ]
  },
  {
   "cell_type": "code",
   "execution_count": 296,
   "metadata": {},
   "outputs": [],
   "source": [
    "import names\n",
    "import random\n",
    "gender_filter_dict = {\n",
    "    'male ': 'human',\n",
    "    'female ': 'human',\n",
    "    'he': 'it',\n",
    "    'she': 'it',\n",
    "    'his': 'its',\n",
    "    'hers': 'its'\n",
    "}\n",
    "email_regex = r'(?:[a-z0-9!#$%&\\'*+/=?^_`{|}~-]+(?:\\.[a-z0-9!#$%&\\'*+/=?^_`{|}~-]+)*|\"(?:[\\x01-\\x08\\x0b\\x0c\\x0e-\\x1f\\x21\\x23-\\x5b\\x5d-\\x7f]|\\\\[\\x01-\\x09\\x0b\\x0c\\x0e-\\x7f])*\")@(?:(?:[a-z0-9](?:[a-z0-9-]*[a-z0-9])?\\.)+[a-z0-9](?:[a-z0-9-]*[a-z0-9])?|\\[(?:(?:(2(5[0-5]|[0-4][0-9])|1[0-9][0-9]|[1-9]?[0-9]))\\.){3}(?:(2(5[0-5]|[0-4][0-9])|1[0-9][0-9]|[1-9]?[0-9])|[a-z0-9-]*[a-z0-9]:(?:[\\x01-\\x08\\x0b\\x0c\\x0e-\\x1f\\x21-\\x5a\\x53-\\x7f]|\\\\[\\x01-\\x09\\x0b\\x0c\\x0e-\\x7f])+)\\])'\n",
    "\n",
    "def filter_text(text, filter_gender=True, filter_dates=True):\n",
    "    Replace={}\n",
    "    doc = nlp(text)\n",
    "    print([(X.text, X.label_) for X in doc.ents])\n",
    "    \n",
    "    #Replace emails\n",
    "    m = re.search(email_regex,text)\n",
    "    print(m.group())\n",
    "    Replace[m.group()]='EMAIL'\n",
    "    text = re.sub(email_regex, 'EMAIL', text)\n",
    "    \n",
    "    if filter_gender:\n",
    "        for key in gender_filter_dict:\n",
    "            text = text.replace(key, gender_filter_dict[key])\n",
    "            text = text.replace(key.capitalize(), gender_filter_dict[key].capitalize())\n",
    "        \n",
    "        \n",
    "    for X in doc.ents:\n",
    "        if X.label_ is 'PERSON':\n",
    "            name=[]\n",
    "            for i in range(len(list(nlp(X.text)))):\n",
    "                name.append(names.get_first_name())\n",
    "                Replace[list(nlp(X.text))[i].text]=name[i]\n",
    "            replace=\" \".join(name)\n",
    "            text = text.replace(X.text, replace)\n",
    "        \n",
    "        if X.label_ is 'GPE':\n",
    "            replace='LOCATION'\n",
    "            text = text.replace(X.text, replace)\n",
    "            for i in range(len(list(nlp(X.text)))):\n",
    "                if i==0:\n",
    "                    Replace[list(nlp(X.text))[i].text]=replace\n",
    "                else:\n",
    "                    Replace[list(nlp(X.text))[i].text]=\"\"\n",
    "        if X.label_ is 'CARDINAL':\n",
    "            replace=number_re(len(X.text))\n",
    "            text = text.replace(X.text, str(replace))\n",
    "            Replace[list(nlp(X.text))[i].text]=str(replace)\n",
    "        if filter_dates:\n",
    "            if X.label_ is 'DATE':\n",
    "                replace='DATE'\n",
    "                text = text.replace(X.text, 'DATE')\n",
    "        \n",
    "        #for i in range(list(nlp(X.text))):\n",
    "            #Replace[list(nlp(X.text))[0]]=replace\n",
    "    \n",
    "    return text,Replace\n",
    "            "
   ]
  },
  {
   "cell_type": "code",
   "execution_count": 297,
   "metadata": {},
   "outputs": [
    {
     "name": "stdout",
     "output_type": "stream",
     "text": [
      "[('Jeffrey Renik', 'PERSON'), ('23 years old', 'DATE'), ('Texas', 'GPE'), ('America', 'GPE'), ('444333555', 'CARDINAL')]\n",
      "reez@nuts.com\n"
     ]
    },
    {
     "data": {
      "text/plain": [
       "('Harold Jerry is a DATE police officer, it is very good at communicating. It lives in LOCATION LOCATION and its credit card number is 882561424. Tit email is rDEMAIL',\n",
       " {'reez@nuts.com': 'EMAIL',\n",
       "  'Jeffrey': 'Harold',\n",
       "  'Renik': 'Jerry',\n",
       "  'Texas': 'LOCATION',\n",
       "  'America': 'LOCATION',\n",
       "  '444333555': '882561424'})"
      ]
     },
     "execution_count": 297,
     "metadata": {},
     "output_type": "execute_result"
    }
   ],
   "source": [
    "result = filter_text('Jeffrey Renik is a 23 years old police officer, he is very good at communicating. He lives in Texas America and his credit card number is 444333555. The email is rDreez@nuts.com')\n",
    "result"
   ]
  },
  {
   "cell_type": "code",
   "execution_count": 202,
   "metadata": {},
   "outputs": [
    {
     "name": "stdout",
     "output_type": "stream",
     "text": [
      "[('Pakistan', 'GPE'), ('Rebrand', 'PERSON'), ('login War Machine', 'PERSON'), ('Iron Patriot', 'PERSON')]\n"
     ]
    },
    {
     "data": {
      "text/plain": [
       "{'Pakistan': 'LOCATION',\n",
       " 'Rebrand': 'Bradley',\n",
       " 'login': 'Pablo',\n",
       " 'War': 'Melody',\n",
       " 'Machine': 'Doyle',\n",
       " 'Iron': 'Alicia',\n",
       " 'Patriot': 'Jason'}"
      ]
     },
     "execution_count": 202,
     "metadata": {},
     "output_type": "execute_result"
    }
   ],
   "source": [
    "#Generate replacement dictionary\n",
    "import pandas as pd\n",
    "dialogue=pd.read_json (\"./Crowd-Computing-Group-5-sjoerd-gcp-speech-to-text/gcp_results.json\")\n",
    "text=\" \".join(list(dialogue.words.values))\n",
    "result,Replace = filter_text(text)\n",
    "Replace"
   ]
  },
  {
   "cell_type": "code",
   "execution_count": 257,
   "metadata": {},
   "outputs": [],
   "source": [
    "#replace the identified entities\n",
    "for i in range(len(dialogue)):\n",
    "    if (dialogue.words[i] in Replace.keys()):\n",
    "        dialogue.words[i]=Replace[dialogue.words[i]]\n",
    "    if (dialogue.words[i] in gender_filter_dict.keys()):\n",
    "        dialogue.words[i]=gender_filter_dict[dialogue.words[i]]"
   ]
  },
  {
   "cell_type": "code",
   "execution_count": 258,
   "metadata": {},
   "outputs": [],
   "source": [
    "#transfered to json\n",
    "dialogue.to_json(r'transfered.json')"
   ]
  }
 ],
 "metadata": {
  "kernelspec": {
   "display_name": "Python 3",
   "language": "python",
   "name": "python3"
  },
  "language_info": {
   "codemirror_mode": {
    "name": "ipython",
    "version": 3
   },
   "file_extension": ".py",
   "mimetype": "text/x-python",
   "name": "python",
   "nbconvert_exporter": "python",
   "pygments_lexer": "ipython3",
   "version": "3.7.1"
  }
 },
 "nbformat": 4,
 "nbformat_minor": 2
}
