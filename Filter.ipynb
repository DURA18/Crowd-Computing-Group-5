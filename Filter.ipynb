{
 "cells": [
  {
   "cell_type": "markdown",
   "metadata": {},
   "source": [
    "# Imports"
   ]
  },
  {
   "cell_type": "code",
   "execution_count": 8,
   "metadata": {},
   "outputs": [],
   "source": [
    "import spacy\n",
    "import re\n",
    "from spacy import displacy\n",
    "from collections import Counter\n",
    "import en_core_web_sm\n",
    "import rstr\n",
    "import string\n",
    "import names\n",
    "import barnum\n",
    "from random import randint\n",
    "nlp = en_core_web_sm.load()"
   ]
  },
  {
   "cell_type": "markdown",
   "metadata": {},
   "source": [
    "# Data used for detection of private information\n",
    "The first dictionary contains gender specific pronouns, which are replaced by gender neutral pronouns.\n",
    "The second list of tuples contain regular expressions for private information."
   ]
  },
  {
   "cell_type": "code",
   "execution_count": 9,
   "metadata": {},
   "outputs": [],
   "source": [
    "gender_filter_dict = {\n",
    "    'male': 'human',\n",
    "    'female': 'human',\n",
    "    ' he ': ' it ',\n",
    "    'she ': 'it ',\n",
    "    'his ': 'its ',\n",
    "    'hers ': 'its ',\n",
    "    ' him': ' it',\n",
    "    ' her': ' it',\n",
    "    ' man': ' person'\n",
    "}\n",
    "\n",
    "regexes = [\n",
    "('email_regex', r'([a-zA-Z0-9_.+-]+@[a-zA-Z0-9-]+\\.[a-zA-Z0-9-.]+)')\n",
    ", ('two_digits', r'[0-9]{2}')\n",
    ", ('ssn_regex', r'\\d{3}-\\d{2}-\\d{4}')\n",
    ", ('ipv4_regex', r'\\d{1,3}[.]\\d{1,3}[.]\\d{1,3}[.]\\d{1,3}')\n",
    ", ('mastercard_regex', r'(?:5[1-5][0-9]{2}|222[1-9]|22[3-9][0-9]|2[3-6][0-9]{2}|27[01][0-9]|2720)[0-9]{12}')\n",
    ", ('visacard_regex', r'\\b([4]\\d{3}[\\s]\\d{4}[\\s]\\d{4}[\\s]\\d{4}|[4]\\d{3}[-]\\d{4}[-]\\d{4}[-]\\d{4}|[4]\\d{3}[.]\\d{4}[.]\\d{4}[.]\\d{4}|[4]\\d{3}\\d{4}\\d{4}\\d{4})\\b')\n",
    ", ('american-express_regex', r'3[47][0-9]{13}(?:\\s|$|[^a-z0-9])')\n",
    ", ('zip-code_regex', r'((\\d{5}-\\d{4})|(\\d{5})|([A-Z]\\d[A-Z]\\s\\d[A-Z]\\d))')\n",
    "]"
   ]
  },
  {
   "cell_type": "markdown",
   "metadata": {},
   "source": [
    "# Main method\n",
    "This method takes as input a string, and returns the exact same string with all information that might be private information replaced by synthetic private information following the same pattern."
   ]
  },
  {
   "cell_type": "code",
   "execution_count": 10,
   "metadata": {},
   "outputs": [],
   "source": [
    "def filter_text(text, filter_gender=True):\n",
    "    doc = nlp(text)\n",
    "    \n",
    "    # Uncomment if you want to see the NLP data\n",
    "#     print([(X.text, X.label_) for X in doc.ents])\n",
    "    \n",
    "    # First, traverse the regular expressions and replace the data.\n",
    "    for (name, regex) in regexes:\n",
    "        if name is 'email_regex':\n",
    "            text = re.sub('(?:^|\\s|[^a-z0-9])' + regex + '(?:\\s|$|[^a-z0-9])', \" \" + barnum.create_email() + \" \", text)\n",
    "        else:\n",
    "            text = re.sub('(?:^|\\s|[^a-z0-9])' + regex + '(?:\\s|$|[^a-z0-9])', \" \" + rstr.xeger(regex) + \" \", text)\n",
    "    \n",
    "    # Replace the gender specific pronouns with gender neutral pronouns\n",
    "    if filter_gender:\n",
    "        for key in gender_filter_dict:\n",
    "            text = text.replace(key, gender_filter_dict[key])\n",
    "            text = text.replace(key.capitalize(), gender_filter_dict[key].capitalize())\n",
    "    \n",
    "    # Replace all words containing both letters and numbers with a random number in between 4 and 8 digits\n",
    "    text = re.sub(r'((?:[a-zA-Z]+[0-9]|[0-9]+[a-zA-Z])[a-zA-Z0-9]*)', rstr.rstr(string.digits, randint(4, 8)), text)\n",
    "    \n",
    "    # Replace the relevant named entities with synthetic information\n",
    "    for X in doc.ents:\n",
    "        if X.label_ is 'PERSON':\n",
    "            if len(X.text) > 8:\n",
    "                replacement = barnum.create_name()[0] + \" \" + barnum.create_name()[1]\n",
    "            else:\n",
    "                replacement = barnum.create_name()[0]\n",
    "            text = text.replace(X.text, replacement)\n",
    "        \n",
    "        if X.label_ is 'TIME':\n",
    "            replacement = barnum.create_date(past=True).strftime(\"%H:%M\")\n",
    "            text = text.replace(X.text, replacement)\n",
    "        \n",
    "        if X.label_ is 'GPE':\n",
    "            replacement = barnum.create_city_state_zip()[1]\n",
    "            text = text.replace(X.text, replacement)\n",
    "            \n",
    "        if X.label_ is 'CARDINAL':\n",
    "            text = text.replace(X.text, rstr.rstr(string.digits, len(X.text)))\n",
    "        \n",
    "    return text\n",
    "            "
   ]
  },
  {
   "cell_type": "markdown",
   "metadata": {},
   "source": [
    "# Example\n",
    "The string \"George Bush is a 22 year old man living in the USA\" should be changed to \"RANDOM NAME is a XX year old PERSON living in the RANDOM LOCATION\""
   ]
  },
  {
   "cell_type": "code",
   "execution_count": 13,
   "metadata": {},
   "outputs": [
    {
     "data": {
      "text/plain": [
       "'Dorian Bryan is a 47 year old person living in the Rockland'"
      ]
     },
     "execution_count": 13,
     "metadata": {},
     "output_type": "execute_result"
    }
   ],
   "source": [
    "result = filter_text('George Bush is a 22 year old man living in the USA')\n",
    "result"
   ]
  }
 ],
 "metadata": {
  "kernelspec": {
   "display_name": "Python 3",
   "language": "python",
   "name": "python3"
  },
  "language_info": {
   "codemirror_mode": {
    "name": "ipython",
    "version": 3
   },
   "file_extension": ".py",
   "mimetype": "text/x-python",
   "name": "python",
   "nbconvert_exporter": "python",
   "pygments_lexer": "ipython3",
   "version": "3.7.5"
  }
 },
 "nbformat": 4,
 "nbformat_minor": 2
}
